{
  "nbformat": 4,
  "nbformat_minor": 0,
  "metadata": {
    "colab": {
      "provenance": [],
      "authorship_tag": "ABX9TyOV+sGydCfRrrDQkF6Sm3ay",
      "include_colab_link": true
    },
    "kernelspec": {
      "name": "python3",
      "display_name": "Python 3"
    },
    "language_info": {
      "name": "python"
    }
  },
  "cells": [
    {
      "cell_type": "markdown",
      "metadata": {
        "id": "view-in-github",
        "colab_type": "text"
      },
      "source": [
        "<a href=\"https://colab.research.google.com/github/cibelemoraes/assistente-virtual-dio/blob/main/Assist%C3%AAncia_Virtual.ipynb\" target=\"_parent\"><img src=\"https://colab.research.google.com/assets/colab-badge.svg\" alt=\"Open In Colab\"/></a>"
      ]
    },
    {
      "cell_type": "code",
      "execution_count": 1,
      "metadata": {
        "colab": {
          "base_uri": "https://localhost:8080/"
        },
        "id": "8vOjkHWkhl5l",
        "outputId": "a2850c90-9f15-4674-f70a-d4a5912b8c7f"
      },
      "outputs": [
        {
          "output_type": "stream",
          "name": "stdout",
          "text": [
            "Collecting SpeechRecognition\n",
            "  Downloading speechrecognition-3.14.2-py3-none-any.whl.metadata (30 kB)\n",
            "Requirement already satisfied: typing-extensions in /usr/local/lib/python3.11/dist-packages (from SpeechRecognition) (4.13.2)\n",
            "Downloading speechrecognition-3.14.2-py3-none-any.whl (32.9 MB)\n",
            "\u001b[2K   \u001b[90m━━━━━━━━━━━━━━━━━━━━━━━━━━━━━━━━━━━━━━━━\u001b[0m \u001b[32m32.9/32.9 MB\u001b[0m \u001b[31m33.7 MB/s\u001b[0m eta \u001b[36m0:00:00\u001b[0m\n",
            "\u001b[?25hInstalling collected packages: SpeechRecognition\n",
            "Successfully installed SpeechRecognition-3.14.2\n",
            "Collecting pydub\n",
            "  Downloading pydub-0.25.1-py2.py3-none-any.whl.metadata (1.4 kB)\n",
            "Downloading pydub-0.25.1-py2.py3-none-any.whl (32 kB)\n",
            "Installing collected packages: pydub\n",
            "Successfully installed pydub-0.25.1\n"
          ]
        }
      ],
      "source": [
        "!pip install SpeechRecognition\n",
        "!pip install pydub"
      ]
    },
    {
      "cell_type": "code",
      "source": [
        "import speech_recognition as sr\n",
        "import webbrowser\n",
        "import os\n",
        "from pydub import AudioSegment\n",
        "\n",
        "def reconhecer_fala(audio_file):\n",
        "    recognizer = sr.Recognizer()\n",
        "    # Try to read the audio file using pydub\n",
        "    try:\n",
        "        audio_data = AudioSegment.from_file(audio_file)\n",
        "        # Convert audio to WAV format if not already in WAV\n",
        "        if audio_data.frame_rate != 16000:  # Check if the audio format matches google speech recognition requirements\n",
        "            audio_data = audio_data.set_frame_rate(16000) # Convert to 16kHz sample rate if it's not.\n",
        "        if audio_data.channels != 1:\n",
        "            audio_data = audio_data.set_channels(1) # Convert to mono if it's stereo\n",
        "        # Export audio to a temporary WAV file\n",
        "        temp_wav_file = \"temp_audio.wav\"\n",
        "        audio_data.export(temp_wav_file, format=\"wav\")\n",
        "\n",
        "        with sr.AudioFile(temp_wav_file) as source:\n",
        "            print(\"Processando áudio...\")\n",
        "            audio = recognizer.record(source)\n",
        "        os.remove(temp_wav_file)  # Remove the temporary file\n",
        "    except Exception as e:\n",
        "        print(f\"Erro ao carregar o arquivo de áudio: {e}\")\n",
        "        return \"\"\n",
        "\n",
        "    try:\n",
        "        texto = recognizer.recognize_google(audio, language=\"pt-BR\")\n",
        "        print(\"Você disse:\", texto)\n",
        "        return texto.lower()\n",
        "    except sr.UnknownValueError:\n",
        "        print(\"Não foi possível entender o áudio.\")\n",
        "        return \"\"\n",
        "    except sr.RequestError:\n",
        "        print(\"Erro ao conectar com o Google Speech Recognition.\")\n",
        "        return \"\"\n",
        "\n",
        "def executar_comando(comando):\n",
        "    if \"abrir github\" in comando:\n",
        "        print(\"Abrindo GitHub...\")\n",
        "        webbrowser.open(\"https://github.com/\")\n",
        "\n",
        "if __name__ == \"__main__\":\n",
        "    audio_file = \"audio.wav\"\n",
        "    current_directory = os.getcwd()\n",
        "    audio_file = os.path.join(current_directory, audio_file)\n",
        "\n",
        "    comando = reconhecer_fala(audio_file)\n",
        "    executar_comando(comando)"
      ],
      "metadata": {
        "colab": {
          "base_uri": "https://localhost:8080/"
        },
        "id": "dreIAe2Th1xo",
        "outputId": "c4b52adf-0fe8-4281-d6af-483e7f5c4c63"
      },
      "execution_count": 2,
      "outputs": [
        {
          "output_type": "stream",
          "name": "stdout",
          "text": [
            "Erro ao carregar o arquivo de áudio: [Errno 2] No such file or directory: '/content/audio.wav'\n"
          ]
        }
      ]
    }
  ]
}